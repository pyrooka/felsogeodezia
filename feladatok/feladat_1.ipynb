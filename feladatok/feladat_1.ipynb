{
 "cells": [
  {
   "cell_type": "markdown",
   "metadata": {},
   "source": [
    "# Ellipszoidi földrajzi koordináták számítása\n",
    "---"
   ]
  },
  {
   "cell_type": "markdown",
   "metadata": {},
   "source": [
    "### Csomagok importálása"
   ]
  },
  {
   "cell_type": "code",
   "execution_count": 3,
   "metadata": {},
   "outputs": [],
   "source": [
    "from math import *\n",
    "import numpy as np\n",
    "\n",
    "import utils"
   ]
  },
  {
   "cell_type": "markdown",
   "metadata": {},
   "source": [
    "### Kiinduló adatok"
   ]
  },
  {
   "cell_type": "markdown",
   "metadata": {},
   "source": [
    "A 2. számú pont GRS80 ellipszoidra vonatkozó ellipszoidi földrajzi koordinátái:  \n",
    "\n",
    "$$ \\varphi =  45 - 52 - 59,3690 $$ \n",
    "$$ \\lambda =  17 - 46 - 38,7912 $$\n",
    "$$ h = 145,654 m $$"
   ]
  },
  {
   "cell_type": "code",
   "execution_count": 4,
   "metadata": {},
   "outputs": [],
   "source": [
    "fi_dms = (45, 52, 59.3690)\n",
    "lambda_dms = (17, 46, 38.7912)\n",
    "h = 145.654"
   ]
  },
  {
   "cell_type": "markdown",
   "metadata": {},
   "source": [
    "A GRS80 ellipszoid paraméterei:\n",
    "$$ a = 6 378 137,000 m $$\n",
    "$$ e^2 = 0,006 694 380 0229 $$"
   ]
  },
  {
   "cell_type": "code",
   "execution_count": 5,
   "metadata": {},
   "outputs": [],
   "source": [
    "a = 6378137\n",
    "e2 = 0.0066943800229"
   ]
  },
  {
   "cell_type": "markdown",
   "metadata": {},
   "source": [
    "Szögek átváltása fokba:"
   ]
  },
  {
   "cell_type": "code",
   "execution_count": 6,
   "metadata": {},
   "outputs": [
    {
     "name": "stdout",
     "output_type": "stream",
     "text": [
      "fi = 45.883158055555555°\n",
      "lambda = 17.777442°\n"
     ]
    }
   ],
   "source": [
    "fi = utils.dms_to_deg(fi_dms)\n",
    "lambda_ = utils.dms_to_deg(lambda_dms)\n",
    "\n",
    "print('fi = {}°'.format(fi))\n",
    "print('lambda = {}°'.format(lambda_))"
   ]
  },
  {
   "cell_type": "markdown",
   "metadata": {},
   "source": [
    "Szögek átváltása radiánba:"
   ]
  },
  {
   "cell_type": "code",
   "execution_count": 7,
   "metadata": {},
   "outputs": [
    {
     "name": "stdout",
     "output_type": "stream",
     "text": [
      "fi = 0.8008121792824038 rad\n",
      "lambda = 0.3102748954823258 rad\n"
     ]
    }
   ],
   "source": [
    "fi_rad = np.deg2rad(fi)\n",
    "lambda_rad = np.deg2rad(lambda_)\n",
    "\n",
    "print('fi = {} rad'.format(fi_rad))\n",
    "print('lambda = {} rad'.format(lambda_rad))"
   ]
  },
  {
   "cell_type": "markdown",
   "metadata": {},
   "source": [
    "### Harántgörbületi sugár"
   ]
  },
  {
   "cell_type": "markdown",
   "metadata": {},
   "source": [
    "$$ N = \\frac{a}{(1 - e^2 sin^2(\\varphi))^{1/2}} $$"
   ]
  },
  {
   "cell_type": "code",
   "execution_count": 8,
   "metadata": {},
   "outputs": [
    {
     "name": "stdout",
     "output_type": "stream",
     "text": [
      "N = 6389168.994 m\n"
     ]
    }
   ],
   "source": [
    "N = a / pow((1 - e2 * pow(sin(fi_rad), 2)), 1 / 2)\n",
    "print('N = {} m'.format(round(N, 3)))"
   ]
  },
  {
   "cell_type": "markdown",
   "metadata": {},
   "source": [
    "### Meridián irányú görbületi sugár"
   ]
  },
  {
   "cell_type": "markdown",
   "metadata": {},
   "source": [
    "$$ M = \\frac{a (1 - e^2)}{(1 - e^2 sin^2\\varphi)^{3/2}} $$"
   ]
  },
  {
   "cell_type": "code",
   "execution_count": 9,
   "metadata": {},
   "outputs": [
    {
     "name": "stdout",
     "output_type": "stream",
     "text": [
      "M = 6368370.646 m\n"
     ]
    }
   ],
   "source": [
    "M = (a * (1 - e2)) / pow((1 - e2 * pow(sin(fi_rad), 2)), 3 / 2)\n",
    "\n",
    "print('M = {} m'.format(round(M, 3)))"
   ]
  },
  {
   "cell_type": "markdown",
   "metadata": {},
   "source": [
    "### Gauss-féle középgörbületi sugár"
   ]
  },
  {
   "cell_type": "markdown",
   "metadata": {},
   "source": [
    "$$ R = \\sqrt{MN} $$"
   ]
  },
  {
   "cell_type": "code",
   "execution_count": 10,
   "metadata": {},
   "outputs": [
    {
     "name": "stdout",
     "output_type": "stream",
     "text": [
      "R = 6378761.343 m\n"
     ]
    }
   ],
   "source": [
    "R = sqrt(M * N)\n",
    "\n",
    "print('R = {} m'.format(round(R, 3)))"
   ]
  },
  {
   "cell_type": "markdown",
   "metadata": {},
   "source": [
    "### Helyvektorok"
   ]
  },
  {
   "cell_type": "markdown",
   "metadata": {},
   "source": [
    "A P pont P '' ellipszoidi megfelelőjének helyvektora:\n",
    "$$\n",
    "\\vec{r_{p''}} = N\n",
    "\\begin{vmatrix}\n",
    "cos \\varphi cos \\lambda \\\\\n",
    "cos \\varphi sin \\lambda \\\\\n",
    "sin \\varphi \\\\\n",
    "\\end{vmatrix}\n",
    "$$"
   ]
  },
  {
   "cell_type": "markdown",
   "metadata": {},
   "source": [
    "A P pont helyvektora:\n",
    "$$\n",
    "\\vec{r_p} =\n",
    "\\begin{vmatrix}\n",
    "(N + h)cos \\varphi cos \\lambda \\\\\n",
    "(N + h)cos \\varphi sin \\lambda \\\\\n",
    "((1 - e^2)N + h)sin \\varphi \\\\\n",
    "\\end{vmatrix} = \n",
    "\\begin{vmatrix}\n",
    "x \\\\\n",
    "y \\\\\n",
    "z \\\\\n",
    "\\end{vmatrix}\n",
    "$$"
   ]
  },
  {
   "cell_type": "code",
   "execution_count": 11,
   "metadata": {},
   "outputs": [
    {
     "name": "stdout",
     "output_type": "stream",
     "text": [
      "x = 4235372.644 m\n",
      "y = 1357990.217 m\n",
      "z = 4556321.059 m\n"
     ]
    }
   ],
   "source": [
    "x = (N + h) * cos(fi_rad) * cos(lambda_rad)\n",
    "y = (N + h) * cos(fi_rad) * sin(lambda_rad)\n",
    "z = ((1 - e2) * N + h) * sin(fi_rad)\n",
    "\n",
    "print('x = {} m'.format(round(x, 3)))\n",
    "print('y = {} m'.format(round(y, 3)))\n",
    "print('z = {} m'.format(round(z, 3)))"
   ]
  },
  {
   "cell_type": "markdown",
   "metadata": {},
   "source": [
    "### Geocentrikus szélesség"
   ]
  },
  {
   "cell_type": "markdown",
   "metadata": {},
   "source": [
    "$$ \\psi = arctg(\\frac{z}{\\sqrt{x^2 + y^2}}) $$"
   ]
  },
  {
   "cell_type": "code",
   "execution_count": 12,
   "metadata": {},
   "outputs": [
    {
     "name": "stdout",
     "output_type": "stream",
     "text": [
      "psi = 0.797 rad\n",
      "psi = 45.691°\n",
      "psi = 45-41-26.9187\n"
     ]
    }
   ],
   "source": [
    "psi_rad = atan(z / (sqrt(pow(x, 2) + pow(y, 2))))\n",
    "\n",
    "psi = np.rad2deg(psi_rad)\n",
    "\n",
    "psi_dms = utils.deg_to_dms(psi)\n",
    "\n",
    "print('psi = {} rad'.format(round(psi_rad, 3)))\n",
    "print('psi = {}°'.format(round(psi, 3)))\n",
    "print('psi = {}-{}-{}'.format(psi_dms[0], psi_dms[1], round(psi_dms[2], 4)))"
   ]
  },
  {
   "cell_type": "markdown",
   "metadata": {},
   "source": [
    "### Geocentrikus távolság"
   ]
  },
  {
   "cell_type": "markdown",
   "metadata": {},
   "source": [
    "$$ r = \\sqrt{x^2 + y^2 + z^2} $$"
   ]
  },
  {
   "cell_type": "code",
   "execution_count": 13,
   "metadata": {},
   "outputs": [
    {
     "name": "stdout",
     "output_type": "stream",
     "text": [
      "r = 6367305.589 m\n"
     ]
    }
   ],
   "source": [
    "r = sqrt(pow(x, 2) + pow(y, 2) + pow(z, 2))\n",
    "\n",
    "print('r = {} m'.format(round(r, 3)))"
   ]
  },
  {
   "cell_type": "markdown",
   "metadata": {},
   "source": [
    "## Ellenőrzés Bowring közelítő eljárással"
   ]
  },
  {
   "cell_type": "markdown",
   "metadata": {},
   "source": [
    "### Ellipszoid fél kistengely hossza"
   ]
  },
  {
   "cell_type": "markdown",
   "metadata": {},
   "source": [
    "$$ b = a\\sqrt{1 - e^2} $$"
   ]
  },
  {
   "cell_type": "code",
   "execution_count": 14,
   "metadata": {},
   "outputs": [
    {
     "name": "stdout",
     "output_type": "stream",
     "text": [
      "b = 6356752.314 m\n"
     ]
    }
   ],
   "source": [
    "b = a * sqrt(1 - e2)\n",
    "\n",
    "print('b = {} m'.format(round(b, 3)))"
   ]
  },
  {
   "cell_type": "markdown",
   "metadata": {},
   "source": [
    "### Második numerikus excentricitás négyzete"
   ]
  },
  {
   "cell_type": "markdown",
   "metadata": {},
   "source": [
    "$$ e'^2 = \\frac{e^2}{1 - e^2} = \\frac{a^2 - b^2}{b^2} $$"
   ]
  },
  {
   "cell_type": "code",
   "execution_count": 15,
   "metadata": {},
   "outputs": [
    {
     "name": "stdout",
     "output_type": "stream",
     "text": [
      "ex2 = 0.006739496775478272\n"
     ]
    }
   ],
   "source": [
    "# ex2 = e2 / (1 - e2)\n",
    "ex2 = (pow(a, 2) - pow(b, 2)) / pow(b, 2)\n",
    "\n",
    "print('ex2 = {}'.format(ex2))"
   ]
  },
  {
   "cell_type": "markdown",
   "metadata": {},
   "source": [
    "###  P pont Z tengelytől mért távolsága"
   ]
  },
  {
   "cell_type": "code",
   "execution_count": 16,
   "metadata": {},
   "outputs": [
    {
     "name": "stdout",
     "output_type": "stream",
     "text": [
      "p = 4447754.362 m\n"
     ]
    }
   ],
   "source": [
    "p = sqrt(pow(x, 2) + pow(y, 2))\n",
    "\n",
    "print('p = {} m'.format(round(p, 3)))"
   ]
  },
  {
   "cell_type": "markdown",
   "metadata": {},
   "source": [
    "### Segédszög"
   ]
  },
  {
   "cell_type": "markdown",
   "metadata": {},
   "source": [
    "$$ \\Theta = arctan\\frac{z * a}{p * b} $$"
   ]
  },
  {
   "cell_type": "code",
   "execution_count": 17,
   "metadata": {},
   "outputs": [
    {
     "name": "stdout",
     "output_type": "stream",
     "text": [
      "theta = 45-47-13.1677\n"
     ]
    }
   ],
   "source": [
    "theta_rad = atan((z * a) / (p * b))\n",
    "\n",
    "theta_deg = np.rad2deg(theta_rad)\n",
    "\n",
    "theta_dms = utils.deg_to_dms(theta_deg)\n",
    "\n",
    "print('theta = {}-{}-{}'.format(theta_dms[0], theta_dms[1], round(theta_dms[2], 4)))"
   ]
  },
  {
   "cell_type": "markdown",
   "metadata": {},
   "source": [
    "### Ellipszoidi szélessség"
   ]
  },
  {
   "cell_type": "markdown",
   "metadata": {},
   "source": [
    "$$ \\varphi = arctan \\frac{z + e'^2 b sin^3\\Theta}{p - e^2 a cos^3\\Theta} $$"
   ]
  },
  {
   "cell_type": "code",
   "execution_count": 18,
   "metadata": {},
   "outputs": [
    {
     "name": "stdout",
     "output_type": "stream",
     "text": [
      "fi_ell = 45-52-59.369\n"
     ]
    }
   ],
   "source": [
    "fi_ell_rad = atan((z + ex2 * b * pow(sin(theta_rad), 3)) / (p - e2 * a * pow(cos(theta_rad), 3)))\n",
    "\n",
    "fi_ell_deg = np.rad2deg(fi_ell_rad)\n",
    "\n",
    "fi_ell_dms = utils.deg_to_dms(fi_ell_deg)\n",
    "\n",
    "# Listává alakítjuk. kerekítjük az utolsó számot (mp) és visszaalakítjuk tuple-re.\n",
    "fi_ell_dms = list(fi_ell_dms)\n",
    "fi_ell_dms[2] = round(fi_ell_dms[2], 4)\n",
    "fi_ell_dms = tuple(fi_ell_dms)\n",
    "\n",
    "print('fi_ell = {}-{}-{}'.format(fi_ell_dms[0], fi_ell_dms[1], fi_ell_dms[2]))"
   ]
  },
  {
   "cell_type": "code",
   "execution_count": 19,
   "metadata": {},
   "outputs": [
    {
     "name": "stdout",
     "output_type": "stream",
     "text": [
      "✔ Az ellipszoidi szélességek megegyeznek!\n"
     ]
    }
   ],
   "source": [
    "if fi_ell_dms == fi_dms:\n",
    "    print('✔ Az ellipszoidi szélességek megegyeznek!')\n",
    "else:\n",
    "    print('❌ Az ellipszoidi szélesség nem egyeznek meg!')"
   ]
  },
  {
   "cell_type": "markdown",
   "metadata": {},
   "source": [
    "### Ellipszoidi hosszúság"
   ]
  },
  {
   "cell_type": "markdown",
   "metadata": {},
   "source": [
    "$$ \\lambda = arctan\\frac{y}{x} $$"
   ]
  },
  {
   "cell_type": "code",
   "execution_count": 20,
   "metadata": {},
   "outputs": [
    {
     "name": "stdout",
     "output_type": "stream",
     "text": [
      "fi_ell = 17-46-38.7912\n"
     ]
    }
   ],
   "source": [
    "lambda_ell_rad = atan(y / x)\n",
    "\n",
    "lambda_ell_deg = np.rad2deg(lambda_ell_rad)\n",
    "\n",
    "lambda_ell_dms = utils.deg_to_dms(lambda_ell_deg)\n",
    "\n",
    "# Listává alakítjuk. kerekítjük az utolsó számot (mp) és visszaalakítjuk tuple-re.\n",
    "lambda_ell_dms = list(lambda_ell_dms)\n",
    "lambda_ell_dms[2] = round(lambda_ell_dms[2], 4)\n",
    "lambda_ell_dms = tuple(lambda_ell_dms)\n",
    "\n",
    "print('fi_ell = {}-{}-{}'.format(lambda_ell_dms[0], lambda_ell_dms[1], lambda_ell_dms[2]))"
   ]
  },
  {
   "cell_type": "code",
   "execution_count": 21,
   "metadata": {},
   "outputs": [
    {
     "name": "stdout",
     "output_type": "stream",
     "text": [
      "✔ Az ellipszoidi hosszúságok megegyeznek!\n"
     ]
    }
   ],
   "source": [
    "if lambda_ell_dms == lambda_dms:\n",
    "    print('✔ Az ellipszoidi hosszúságok megegyeznek!')\n",
    "else:\n",
    "    print('❌ Az ellipszoidi hosszúságok nem egyeznek meg!')"
   ]
  },
  {
   "cell_type": "markdown",
   "metadata": {},
   "source": [
    "### Ellipszoid feletti magasság"
   ]
  },
  {
   "cell_type": "markdown",
   "metadata": {},
   "source": [
    "$$ h = \\frac{p}{cos\\varphi} - N $$"
   ]
  },
  {
   "cell_type": "code",
   "execution_count": 22,
   "metadata": {},
   "outputs": [
    {
     "name": "stdout",
     "output_type": "stream",
     "text": [
      "h_ell = 145.654 m\n"
     ]
    }
   ],
   "source": [
    "h_ell = p / cos(fi_ell_rad) - N\n",
    "\n",
    "h_ell = round(h_ell, 3)\n",
    "\n",
    "print('h_ell = {} m'.format(h_ell))"
   ]
  },
  {
   "cell_type": "code",
   "execution_count": 23,
   "metadata": {},
   "outputs": [
    {
     "name": "stdout",
     "output_type": "stream",
     "text": [
      "✔ Az ellipszoid feletti magasságok megegyeznek!\n"
     ]
    }
   ],
   "source": [
    "if h_ell == h_ell:\n",
    "    print('✔ Az ellipszoid feletti magasságok megegyeznek!')\n",
    "else:\n",
    "    print('❌ Az ellipszoid feletti magasságok nem egyeznek meg!')"
   ]
  },
  {
   "cell_type": "markdown",
   "metadata": {},
   "source": [
    "### Ellenőrzés összegzése"
   ]
  },
  {
   "cell_type": "code",
   "execution_count": 24,
   "metadata": {},
   "outputs": [
    {
     "name": "stdout",
     "output_type": "stream",
     "text": [
      "✔ Az ellipszoidi szélességek megegyeznek!\n",
      "✔ Az ellipszoidi hosszúságok megegyeznek!\n",
      "✔ Az ellipszoid feletti magasságok megegyeznek!\n"
     ]
    }
   ],
   "source": [
    "if fi_ell_dms == fi_dms:\n",
    "    print('✔ Az ellipszoidi szélességek megegyeznek!')\n",
    "else:\n",
    "    print('❌ Az ellipszoidi szélesség nem egyeznek meg!')\n",
    "    \n",
    "if lambda_ell_dms == lambda_dms:\n",
    "    print('✔ Az ellipszoidi hosszúságok megegyeznek!')\n",
    "else:\n",
    "    print('❌ Az ellipszoidi hosszúságok nem egyeznek meg!')\n",
    "\n",
    "if h_ell == h_ell:\n",
    "    print('✔ Az ellipszoid feletti magasságok megegyeznek!')\n",
    "else:\n",
    "    print('❌ Az ellipszoid feletti magasságok nem egyeznek meg!')"
   ]
  },
  {
   "cell_type": "markdown",
   "metadata": {},
   "source": [
    "### Ellenőrzés az egyetemi weboldalon "
   ]
  },
  {
   "cell_type": "code",
   "execution_count": 35,
   "metadata": {},
   "outputs": [
    {
     "data": {
      "text/html": [
       "<html>\n",
       "\t<style language=\"text/css\">\n",
       "\t\tbody,td {\tfont-family: sans-serif,arial,helvetica,verdana;\n",
       "\t\t\t\tfont-size: 10pt;\n",
       "\t\t\t}\n",
       "\t\th2 {\ttext-align: center;\t}\n",
       "\t\timg\t{ border: 0 }\n",
       "\t\ttable.eredm       { background-color: #C0E0FF;  }\n",
       "\t\ttable.eredm tr    { background-color: #C0E0FF; height: 30px; }\n",
       "        p.pontszam { font-size: 14pt; font-weight:bold; }\n",
       "\t</style>\n",
       "<body>\n",
       "\n",
       " \n",
       "<h2>Az ellenőrzés eredménye:</h2>\n",
       "<div align=\"center\">\n",
       "<table class=\"eredm\" border=\"0\" cellpadding=\"2\" cellspacing=\"3\">\n",
       "\n",
       " <colgroup>\n",
       "<col width=\"200\">\n",
       "<col width=\"120\">\n",
       "<col width=\"70\">\n",
       "</colgroup>\n",
       "\n",
       "<tbody>\n",
       "\n",
       "<tr style=\"background-color:#8CC2CC\">\n",
       "<td><b>Neptun kód:</b></td>\n",
       "<td colspan=\"2\" style=\"text-align:center\"><b> WJ81S1 </b></td>\n",
       "</tr>\n",
       "\n",
       "<tr>\n",
       "<td>geocentrikus távolság:</td>\n",
       "<td>6367305.589</td>\n",
       "<td bgcolor=\"#008030\"><span color=\"#C0FFE0\"><b>Helyes</b></font></td> \n",
       "</tr>\n",
       "\n",
       "<tr style=\"background-color:#8CC2CC\">\n",
       "<td>geocentrikus szélesség:</td>\n",
       "<td>45-41-26.9187</td>\n",
       "<td bgcolor=\"#008030\"><span color=\"#C0FFE0\"><b>Helyes</b></font></td> \n",
       "</tr>\n",
       "\n",
       "<tr>\n",
       "<td>Gauss-féle középgörbületi sugár:</td>\n",
       "<td>6378761.343</td>\n",
       "<td bgcolor=\"#008030\"><span color=\"#C0FFE0\"><b>Helyes</b></font></td> \n",
       "</tr>\n",
       "<tr><td colspan=\"3\"><hr></td></tr>\n",
       "<tr><td colspan=\"3\" style=\"text-align:center\">\n",
       "<button onclick=\"goBack()\">Visszamegyek</button>\n",
       "</td></tr>\n",
       "</tbody>\n",
       "</table>\n",
       "</div>\n",
       "\n",
       "<script>\n",
       "function goBack() {\n",
       "    window.history.back();\n",
       "}\n",
       "</script>\n",
       "\n",
       "  \n",
       "</body>\n",
       "</html> \n"
      ],
      "text/plain": [
       "<IPython.core.display.HTML object>"
      ]
     },
     "execution_count": 35,
     "metadata": {},
     "output_type": "execute_result"
    }
   ],
   "source": [
    "from urllib import request, parse\n",
    "\n",
    "from IPython.display import HTML\n",
    "\n",
    "# Post paraméterek enkódolása bájtokká.\n",
    "data = parse.urlencode({'neptun': 'WJ81S1', 'rgeoc': round(r, 3), 'pszi': '{}-{}-{}'.format(psi_dms[0], psi_dms[1], round(psi_dms[2], 4)), 'rgauss': round(R, 3)}).encode()\n",
    "# Request létrehozása.\n",
    "req = request.Request('http://www.agt.bme.hu/gtoth/fg/process1hf.php', data=data)\n",
    "# Request megnyitása. \n",
    "resp = request.urlopen(req)\n",
    "# Response kiolvasása, dekódolása, majd megjelenítése.\n",
    "resp_str = resp.read().decode('utf-8')\n",
    "\n",
    "# Workaround: a GitHub IPythonja nem tudja lerenderelni a font tag-eket.\n",
    "resp_str = resp_str.replace('<font', '<span').replace('\\font', '\\span')\n",
    "\n",
    "HTML(resp_str)"
   ]
  }
 ],
 "metadata": {
  "kernelspec": {
   "display_name": "Python 3",
   "language": "python",
   "name": "python3"
  },
  "language_info": {
   "codemirror_mode": {
    "name": "ipython",
    "version": 3
   },
   "file_extension": ".py",
   "mimetype": "text/x-python",
   "name": "python",
   "nbconvert_exporter": "python",
   "pygments_lexer": "ipython3",
   "version": "3.6.4"
  }
 },
 "nbformat": 4,
 "nbformat_minor": 2
}
