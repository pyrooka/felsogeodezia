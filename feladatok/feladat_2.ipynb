{
 "cells": [
  {
   "cell_type": "markdown",
   "metadata": {},
   "source": [
    "# Geodéziai paraméterek meghatározása a potenciál gömbfüggvénysorából"
   ]
  },
  {
   "cell_type": "markdown",
   "metadata": {},
   "source": [
    "### Csomagok importálása"
   ]
  },
  {
   "cell_type": "code",
   "execution_count": 2,
   "metadata": {},
   "outputs": [],
   "source": [
    "from math import *\n",
    "import numpy as np\n",
    "\n",
    "import utils"
   ]
  },
  {
   "cell_type": "markdown",
   "metadata": {},
   "source": [
    "### Numpy tömbök kiírásának beállítása"
   ]
  },
  {
   "cell_type": "code",
   "execution_count": 3,
   "metadata": {},
   "outputs": [],
   "source": [
    "np.set_printoptions(linewidth=150)"
   ]
  },
  {
   "cell_type": "markdown",
   "metadata": {},
   "source": [
    "### Kiinduló adatok"
   ]
  },
  {
   "cell_type": "markdown",
   "metadata": {},
   "source": [
    "A 2. számú pont GRS80 ellipszoidra vonatkozó ellipszoidi földrajzi koordinátái:  \n",
    "\n",
    "$$ \\varphi =  45 - 52 - 59,3690 $$ \n",
    "$$ \\lambda =  17 - 46 - 38,7912 $$\n",
    "$$ \\psi = 45-41-26.9187 $$\n",
    "$$ \\vartheta = 90° - \\psi = 44 - 18 - 33.0813 $$"
   ]
  },
  {
   "cell_type": "code",
   "execution_count": 4,
   "metadata": {},
   "outputs": [],
   "source": [
    "fi_dms = (45, 52, 59.3690)\n",
    "lambda_dms = (17, 46, 38.7912)\n",
    "psi_dms = (45, 41, 26.9187)\n",
    "theta_dms = (44, 18, 33.0813)"
   ]
  },
  {
   "cell_type": "markdown",
   "metadata": {},
   "source": [
    "Szögek átváltása fokba:"
   ]
  },
  {
   "cell_type": "code",
   "execution_count": 5,
   "metadata": {},
   "outputs": [
    {
     "name": "stdout",
     "output_type": "stream",
     "text": [
      "fi = 45.883158055555555°\n",
      "lambda = 17.777442°\n",
      "psi = 45.69081075°\n",
      "theta = 44.309189249999996°\n"
     ]
    }
   ],
   "source": [
    "fi = utils.dms_to_deg(fi_dms)\n",
    "lambda_ = utils.dms_to_deg(lambda_dms)\n",
    "psi = utils.dms_to_deg(psi_dms)\n",
    "theta = utils.dms_to_deg(theta_dms)\n",
    "\n",
    "print('fi = {}°'.format(fi))\n",
    "print('lambda = {}°'.format(lambda_))\n",
    "print('psi = {}°'.format(psi))\n",
    "print('theta = {}°'.format(theta))"
   ]
  },
  {
   "cell_type": "markdown",
   "metadata": {},
   "source": [
    "Szögek átváltása radiánba:"
   ]
  },
  {
   "cell_type": "code",
   "execution_count": 6,
   "metadata": {},
   "outputs": [
    {
     "name": "stdout",
     "output_type": "stream",
     "text": [
      "fi = 0.8008121792824038 rad\n",
      "lambda = 0.3102748954823258 rad\n",
      "psi = 0.7974550854931197 rad\n",
      "theta = 0.7733412413017768 rad\n"
     ]
    }
   ],
   "source": [
    "fi_rad = np.deg2rad(fi)\n",
    "lambda_rad = np.deg2rad(lambda_)\n",
    "psi_rad = np.deg2rad(psi)\n",
    "theta_rad = np.deg2rad(theta)\n",
    "\n",
    "print('fi = {} rad'.format(fi_rad))\n",
    "print('lambda = {} rad'.format(lambda_rad))\n",
    "print('psi = {} rad'.format(psi_rad))\n",
    "print('theta = {} rad'.format(theta_rad))"
   ]
  },
  {
   "cell_type": "markdown",
   "metadata": {},
   "source": [
    "A GRS80 ellipszoid paraméterei:\n",
    "$$ a = 6 378 136,3m $$\n",
    "$$ r = 6 367 305.589 m $$\n",
    "$$  kM=3 986 00.4415 * 10^9 m^2s^{-2} $$\n",
    "$$ \\omega = 7,292115 * 10^{-5} rad*s^{-1} $$"
   ]
  },
  {
   "cell_type": "code",
   "execution_count": 7,
   "metadata": {},
   "outputs": [],
   "source": [
    "a = 6378136.3\n",
    "r = 6367305.589\n",
    "kM = 398600.4415E+09\n",
    "omega = 7.292115E-05"
   ]
  },
  {
   "cell_type": "markdown",
   "metadata": {},
   "source": [
    "A GGM05C modell együtthatói:"
   ]
  },
  {
   "cell_type": "code",
   "execution_count": 8,
   "metadata": {
    "scrolled": true
   },
   "outputs": [],
   "source": [
    "C = np.zeros((9, 9))\n",
    "S = np.zeros((9, 9))\n",
    "\n",
    "raw = np.loadtxt('data/GGM05C.dat')\n",
    "\n",
    "for row in raw:\n",
    "    row_index = int(row[0])\n",
    "    col_index = int(row[1])\n",
    "    \n",
    "    C[row_index, col_index] = row[2]\n",
    "    S[row_index, col_index] = row[3]"
   ]
  },
  {
   "cell_type": "code",
   "execution_count": 9,
   "metadata": {},
   "outputs": [
    {
     "name": "stdout",
     "output_type": "stream",
     "text": [
      "C = \n",
      " [[ 1.00000e+00  0.00000e+00  0.00000e+00  0.00000e+00  0.00000e+00  0.00000e+00  0.00000e+00  0.00000e+00  0.00000e+00]\n",
      " [ 0.00000e+00  0.00000e+00  0.00000e+00  0.00000e+00  0.00000e+00  0.00000e+00  0.00000e+00  0.00000e+00  0.00000e+00]\n",
      " [-4.84155e-04 -0.00000e+00  2.43900e-06  0.00000e+00  0.00000e+00  0.00000e+00  0.00000e+00  0.00000e+00  0.00000e+00]\n",
      " [ 9.57000e-07  2.03000e-06  9.05000e-07  7.21000e-07  0.00000e+00  0.00000e+00  0.00000e+00  0.00000e+00  0.00000e+00]\n",
      " [ 5.40000e-07 -5.36000e-07  3.50000e-07  9.91000e-07 -1.88000e-07  0.00000e+00  0.00000e+00  0.00000e+00  0.00000e+00]\n",
      " [ 6.90000e-08 -6.30000e-08  6.52000e-07 -4.52000e-07 -2.95000e-07  1.75000e-07  0.00000e+00  0.00000e+00  0.00000e+00]\n",
      " [-1.50000e-07 -7.60000e-08  4.90000e-08  5.70000e-08 -8.60000e-08 -2.67000e-07  9.00000e-09  0.00000e+00  0.00000e+00]\n",
      " [ 9.10000e-08  2.81000e-07  3.30000e-07  2.50000e-07 -2.75000e-07  2.00000e-09 -3.59000e-07  2.00000e-09  0.00000e+00]\n",
      " [ 4.90000e-08  2.30000e-08  8.00000e-08 -1.90000e-08 -2.44000e-07 -2.60000e-08 -6.60000e-08  6.70000e-08 -1.24000e-07]]\n"
     ]
    }
   ],
   "source": [
    "print('C = \\n', C.round(9))"
   ]
  },
  {
   "cell_type": "code",
   "execution_count": 10,
   "metadata": {},
   "outputs": [
    {
     "name": "stdout",
     "output_type": "stream",
     "text": [
      "S = \n",
      " [[ 0.0000e+00  0.0000e+00  0.0000e+00  0.0000e+00  0.0000e+00  0.0000e+00  0.0000e+00  0.0000e+00  0.0000e+00]\n",
      " [ 0.0000e+00  0.0000e+00  0.0000e+00  0.0000e+00  0.0000e+00  0.0000e+00  0.0000e+00  0.0000e+00  0.0000e+00]\n",
      " [ 0.0000e+00  1.4000e-09 -1.4003e-06  0.0000e+00  0.0000e+00  0.0000e+00  0.0000e+00  0.0000e+00  0.0000e+00]\n",
      " [ 0.0000e+00  2.4820e-07 -6.1900e-07  1.4144e-06  0.0000e+00  0.0000e+00  0.0000e+00  0.0000e+00  0.0000e+00]\n",
      " [ 0.0000e+00 -4.7360e-07  6.6250e-07 -2.0100e-07  3.0880e-07  0.0000e+00  0.0000e+00  0.0000e+00  0.0000e+00]\n",
      " [ 0.0000e+00 -9.4300e-08 -3.2330e-07 -2.1490e-07  4.9800e-08 -6.6940e-07  0.0000e+00  0.0000e+00  0.0000e+00]\n",
      " [ 0.0000e+00  2.6500e-08 -3.7380e-07  9.0000e-09 -4.7140e-07 -5.3650e-07 -2.3740e-07  0.0000e+00  0.0000e+00]\n",
      " [ 0.0000e+00  9.5200e-08  9.3000e-08 -2.1710e-07 -1.2410e-07  1.7900e-08  1.5180e-07  2.4100e-08  0.0000e+00]\n",
      " [ 0.0000e+00  5.8900e-08  6.5300e-08 -8.5900e-08  6.9800e-08  8.9200e-08  3.0890e-07  7.4900e-08  1.2050e-07]]\n"
     ]
    }
   ],
   "source": [
    "print('S = \\n', S.round(10))"
   ]
  },
  {
   "cell_type": "markdown",
   "metadata": {},
   "source": [
    "### Normalizált Legendre-függvények számítása"
   ]
  },
  {
   "cell_type": "markdown",
   "metadata": {},
   "source": [
    "Kezdőértékek:"
   ]
  },
  {
   "attachments": {},
   "cell_type": "markdown",
   "metadata": {},
   "source": [
    "![rekurzio_kezdoertekek](img/rekurzio_kezd.PNG)"
   ]
  },
  {
   "cell_type": "code",
   "execution_count": 11,
   "metadata": {},
   "outputs": [
    {
     "name": "stdout",
     "output_type": "stream",
     "text": [
      "[[1.         0.         0.         0.         0.         0.         0.         0.         0.        ]\n",
      " [1.23942215 1.20988956 0.         0.         0.         0.         0.         0.         0.        ]\n",
      " [0.59945322 1.93592869 0.94489997 0.         0.         0.         0.         0.         0.        ]\n",
      " [0.         0.         0.         0.         0.         0.         0.         0.         0.        ]\n",
      " [0.         0.         0.         0.         0.         0.         0.         0.         0.        ]\n",
      " [0.         0.         0.         0.         0.         0.         0.         0.         0.        ]\n",
      " [0.         0.         0.         0.         0.         0.         0.         0.         0.        ]\n",
      " [0.         0.         0.         0.         0.         0.         0.         0.         0.        ]\n",
      " [0.         0.         0.         0.         0.         0.         0.         0.         0.        ]]\n"
     ]
    }
   ],
   "source": [
    "P = np.zeros((9,9))\n",
    "\n",
    "P[0,0] = 1\n",
    "P[1,0] = sqrt(3) * cos(theta_rad)\n",
    "P[1,1] = sqrt(3) * sin(theta_rad)\n",
    "P[2,0] = 0.5 * sqrt(5) * (3 * pow(cos(theta_rad), 2) - 1)\n",
    "P[2,1] = sqrt(15) * sin(theta_rad) * cos(theta_rad)\n",
    "P[2,2] = 0.5 * sqrt(15) * pow(sin(theta_rad), 2)\n",
    "\n",
    "print(P)"
   ]
  },
  {
   "attachments": {},
   "cell_type": "markdown",
   "metadata": {},
   "source": [
    "Rekurziós összefüggések:\n",
    "![rekurzio](img/rekurzio.PNG)"
   ]
  },
  {
   "cell_type": "code",
   "execution_count": 12,
   "metadata": {},
   "outputs": [],
   "source": [
    "def rekurzio_nn(matrix, theta):\n",
    "    for n in range(2, len(matrix)):\n",
    "        matrix[n,n] = sqrt((2 * n + 1)/(2 * n)) * sin(theta) * matrix[n-1,n-1]\n",
    "        \n",
    "def rekurzio_nn1(matrix, theta):\n",
    "    for n in range(2, len(matrix)):\n",
    "        matrix[n,n-1] = sqrt(2 * n + 1) * cos(theta) * matrix[n-1,n-1]\n",
    "        \n",
    "def rekurzio_nm(matrix, theta):\n",
    "    for n in range(3, len(matrix)):\n",
    "        for m in range(0, n-1):\n",
    "            matrix[n,m] = sqrt(((2 * n + 1) * (2 * n - 1))/((n + m) * (n - m))) * cos(theta) * matrix[n-1,m] \\\n",
    "            - sqrt(((2 * n + 1) * (n + m - 1) * (n - m - 1))/((2 * n - 3) * (n + m) * (n - m))) * matrix[n-2,m]"
   ]
  },
  {
   "cell_type": "code",
   "execution_count": 13,
   "metadata": {},
   "outputs": [
    {
     "name": "stdout",
     "output_type": "stream",
     "text": [
      "[[ 1.          0.          0.          0.          0.          0.          0.          0.          0.        ]\n",
      " [ 1.23942215  1.20988956  0.          0.          0.          0.          0.          0.          0.        ]\n",
      " [ 0.59945322  1.93592869  0.94489997  0.          0.          0.          0.          0.          0.        ]\n",
      " [-0.4162508   1.76584245  1.78893055  0.7129258   0.          0.          0.          0.          0.        ]\n",
      " [-1.19423786  0.69280014  2.11482563  1.53046785  0.52820887  0.          0.          0.          0.        ]\n",
      " [-1.28314155 -0.74312299  1.59059685  2.13308227  1.25360484  0.38697877  0.          0.          0.        ]\n",
      " [-0.63391584 -1.76435672  0.34707384  2.09682573  1.97282435  0.99842958  0.28135413  0.          0.        ]\n",
      " [ 0.37941273 -1.80372115 -1.0493103   1.26641358  2.29204395  1.73058205  0.77975388  0.20343234  0.        ]\n",
      " [ 1.17623596 -0.8356139  -1.89167074 -0.09356592  1.90975607  2.27090571  1.46463553  0.60020981  0.14647705]]\n"
     ]
    }
   ],
   "source": [
    "rekurzio_nn(P, theta_rad)\n",
    "rekurzio_nn1(P, theta_rad)\n",
    "rekurzio_nm(P, theta_rad)\n",
    "\n",
    "print(P)"
   ]
  },
  {
   "cell_type": "markdown",
   "metadata": {},
   "source": [
    "Ellenőrzés:\n",
    "![rekurzio_ellenorzes](img/rekurzio_ell.PNG)"
   ]
  },
  {
   "cell_type": "code",
   "execution_count": 18,
   "metadata": {},
   "outputs": [
    {
     "name": "stdout",
     "output_type": "stream",
     "text": [
      "1\t1\n",
      "3\t3\n",
      "5\t5\n",
      "7\t7\n",
      "9\t9\n",
      "11\t11\n",
      "13\t13\n",
      "15\t15\n",
      "17\t17\n"
     ]
    }
   ],
   "source": [
    "for n in range(0, len(P)):\n",
    "    print('{}\\t{}'.format(round(sum([pow(P[n,m], 2) for m in range(0, n+1)])), 2 * n + 1))"
   ]
  },
  {
   "cell_type": "markdown",
   "metadata": {},
   "source": [
    "### Nehézségi térerősség"
   ]
  },
  {
   "attachments": {},
   "cell_type": "markdown",
   "metadata": {},
   "source": [
    "![nehezsegi_tererosseg_1](img/nt_1.PNG)\n",
    "ahol"
   ]
  },
  {
   "attachments": {},
   "cell_type": "markdown",
   "metadata": {},
   "source": [
    "![nehezsegi_tererosseg_2](img/nt_2.PNG)"
   ]
  },
  {
   "cell_type": "code",
   "execution_count": 15,
   "metadata": {},
   "outputs": [
    {
     "name": "stdout",
     "output_type": "stream",
     "text": [
      "g_r = 9.806644159912823\n",
      "g = 9.806699420998102\n"
     ]
    }
   ],
   "source": [
    "g_r = 1\n",
    "\n",
    "for n in range(2, len(P)):\n",
    "    for m in range(0, n+1):\n",
    "        g_r += (n + 1) * pow(a / r, n) * (C[n,m] * cos(m * lambda_rad) + S[n,m] * sin(m * lambda_rad)) * P[n,m]\n",
    "        \n",
    "g_r = (kM / pow(r, 2)) * g_r - pow(omega, 2) * r * pow(sin(theta_rad), 2)\n",
    "\n",
    "print('g_r = {}'.format(g_r))\n",
    "\n",
    "g = g_r / cos(fi_rad - psi_rad)\n",
    "\n",
    "print('g = {}'.format(g))"
   ]
  },
  {
   "cell_type": "markdown",
   "metadata": {},
   "source": [
    "### Nehézségi erőtér potenciálja"
   ]
  },
  {
   "attachments": {},
   "cell_type": "markdown",
   "metadata": {},
   "source": [
    "![potencial](img/potencial.PNG)"
   ]
  },
  {
   "cell_type": "code",
   "execution_count": 16,
   "metadata": {},
   "outputs": [
    {
     "name": "stdout",
     "output_type": "stream",
     "text": [
      "W = 62635765.35512515\n"
     ]
    }
   ],
   "source": [
    "W = 1\n",
    "\n",
    "for n in range(2, len(P)):\n",
    "    for m in range(0, n+1):\n",
    "        W += pow((a / r), n) * (C[n,m] * cos(m * lambda_rad) + S[n,m] * sin(m * lambda_rad)) * P[n,m]\n",
    "\n",
    "\n",
    "W = kM / r * W + 0.5 * pow(omega, 2) * pow(r, 2) * pow(sin(theta_rad), 2)\n",
    "\n",
    "print('W = {}'.format(W))"
   ]
  },
  {
   "cell_type": "markdown",
   "metadata": {},
   "source": [
    "### Ellenőrzés az egyetemi weboldalon "
   ]
  },
  {
   "cell_type": "code",
   "execution_count": 17,
   "metadata": {},
   "outputs": [
    {
     "data": {
      "text/html": [
       "<html>\n",
       "\t<style language=\"text/css\">\n",
       "\t\tbody,td {\tfont-family: sans-serif,arial,helvetica,verdana;\n",
       "\t\t\t\tfont-size: 10pt;\n",
       "\t\t\t}\n",
       "\t\th2 {\ttext-align: center;\t}\n",
       "\t\timg\t{ border: 0 }\n",
       "\t\ttable.eredm       { background-color: #C0E0FF;  }\n",
       "\t\ttable.eredm tr    { background-color: #C0E0FF; height: 30px; }\n",
       "        p.pontszam { font-size: 14pt; font-weight:bold; }\n",
       "\t</style>\n",
       "<body>\n",
       "\n",
       " \n",
       "<h2>Az ellenőrzés eredménye:</h2>\n",
       "<div align=\"center\">\n",
       "<table class=\"eredm\" border=\"0\" cellpadding=\"2\" cellspacing=\"3\">\n",
       "\n",
       " <colgroup>\n",
       "<col width=\"200\">\n",
       "<col width=\"120\">\n",
       "<col width=\"70\">\n",
       "</colgroup>\n",
       "\n",
       "<tbody>\n",
       "\n",
       "<tr style=\"background-color:#8CC2CC\">\n",
       "<td><b>Neptun kód:</b></td>\n",
       "<td colspan=\"2\" style=\"text-align:center\"><b> WJ81S1 </b></td>\n",
       "</tr>\n",
       "\n",
       "<tr>\n",
       "<td>nehézségi erőtér W potenciálja:</td>\n",
       "<td>62635765.36</td>\n",
       "<td bgcolor=\"#008030\"><span color=\"#C0FFE0\"><b>Helyes</b></font></td> \n",
       "</tr>\n",
       "\n",
       "<tr style=\"background-color:#8CC2CC\">\n",
       "<td>g nehézségi térerősség:</td>\n",
       "<td>9.806699421</td>\n",
       "<td bgcolor=\"#008030\"><span color=\"#C0FFE0\"><b>Helyes</b></font></td> \n",
       "</tr>\n",
       "</tbody>\n",
       "</table>\n",
       "</div>\n",
       "\n",
       "<script>\n",
       "function goBack() {\n",
       "    window.history.back();\n",
       "}\n",
       "</script>\n",
       "\n",
       "  \n",
       "</body>\n",
       "</html> \n"
      ],
      "text/plain": [
       "<IPython.core.display.HTML object>"
      ]
     },
     "execution_count": 17,
     "metadata": {},
     "output_type": "execute_result"
    }
   ],
   "source": [
    "from urllib import request, parse\n",
    "\n",
    "from IPython.display import HTML\n",
    "\n",
    "# Post paraméterek enkódolása bájtokká.\n",
    "data = parse.urlencode({'neptun': 'WJ81S1', 'g': round(g, 9), 'W': round(W, 2)}).encode()\n",
    "# Request létrehozása.\n",
    "req = request.Request('http://www.agt.bme.hu/gtoth/fg/process2hf.php', data=data)\n",
    "# Request megnyitása. \n",
    "resp = request.urlopen(req)\n",
    "# Response kiolvasása, dekódolása, majd megjelenítése.\n",
    "resp_str = resp.read().decode('utf-8')\n",
    "\n",
    "# Fölösleges elemek eltávolítása.\n",
    "str_remove = \\\n",
    "'''\n",
    "<tr><td colspan=\"3\"><hr></td></tr>\n",
    "<tr><td colspan=\"3\" style=\"text-align:center\">\n",
    "<button onclick=\"goBack()\">Visszamegyek</button>\n",
    "</td></tr>\n",
    "'''\n",
    "resp_str = resp_str.replace(str_remove, '')\n",
    "\n",
    "# Workaround: a GitHub IPythonja nem tudja lerenderelni a font tag-eket.\n",
    "resp_str = resp_str.replace('<font', '<span').replace('\\font', '\\span')\n",
    "\n",
    "HTML(resp_str)"
   ]
  }
 ],
 "metadata": {
  "kernelspec": {
   "display_name": "Python 3",
   "language": "python",
   "name": "python3"
  },
  "language_info": {
   "codemirror_mode": {
    "name": "ipython",
    "version": 3
   },
   "file_extension": ".py",
   "mimetype": "text/x-python",
   "name": "python",
   "nbconvert_exporter": "python",
   "pygments_lexer": "ipython3",
   "version": "3.6.4"
  }
 },
 "nbformat": 4,
 "nbformat_minor": 2
}
